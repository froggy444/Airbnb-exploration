{
 "cells": [
  {
   "cell_type": "code",
   "execution_count": 2,
   "metadata": {
    "collapsed": true
   },
   "outputs": [],
   "source": [
    "import pandas as pd\n",
    "import matplotlib.pyplot as plt\n",
    "import seaborn as sns\n",
    "# Importing the dataset- AIRBNB rentals in Amsterdam \n",
    "dataset = pd.read_csv('airbnbamsterdam1.csv')\n",
    "X = dataset.iloc[:,:].values\n"
   ]
  },
  {
   "cell_type": "code",
   "execution_count": 14,
   "metadata": {},
   "outputs": [
    {
     "data": {
      "text/plain": [
       "(5645, 14)"
      ]
     },
     "execution_count": 14,
     "metadata": {},
     "output_type": "execute_result"
    }
   ],
   "source": [
    "dataset.shape\n"
   ]
  },
  {
   "cell_type": "code",
   "execution_count": 15,
   "metadata": {},
   "outputs": [
    {
     "data": {
      "text/html": [
       "<div>\n",
       "<style>\n",
       "    .dataframe thead tr:only-child th {\n",
       "        text-align: right;\n",
       "    }\n",
       "\n",
       "    .dataframe thead th {\n",
       "        text-align: left;\n",
       "    }\n",
       "\n",
       "    .dataframe tbody tr th {\n",
       "        vertical-align: top;\n",
       "    }\n",
       "</style>\n",
       "<table border=\"1\" class=\"dataframe\">\n",
       "  <thead>\n",
       "    <tr style=\"text-align: right;\">\n",
       "      <th></th>\n",
       "      <th>room_id</th>\n",
       "      <th>host_id</th>\n",
       "      <th>room_type</th>\n",
       "      <th>borough</th>\n",
       "      <th>neighborhood</th>\n",
       "      <th>reviews</th>\n",
       "      <th>overall_satisfaction</th>\n",
       "      <th>accommodates</th>\n",
       "      <th>bedrooms</th>\n",
       "      <th>price</th>\n",
       "      <th>minstay</th>\n",
       "      <th>latitude</th>\n",
       "      <th>longitude</th>\n",
       "      <th>last_modified</th>\n",
       "    </tr>\n",
       "  </thead>\n",
       "  <tbody>\n",
       "    <tr>\n",
       "      <th>0</th>\n",
       "      <td>2818</td>\n",
       "      <td>3159</td>\n",
       "      <td>Private room</td>\n",
       "      <td>NaN</td>\n",
       "      <td>Oostelijk Havengebied / Indische Buurt</td>\n",
       "      <td>77</td>\n",
       "      <td>5.0</td>\n",
       "      <td>2</td>\n",
       "      <td>1.0</td>\n",
       "      <td>90.0</td>\n",
       "      <td>3</td>\n",
       "      <td>52.365755</td>\n",
       "      <td>4.941419</td>\n",
       "      <td>2014-05-24 14:44:31.832</td>\n",
       "    </tr>\n",
       "    <tr>\n",
       "      <th>1</th>\n",
       "      <td>6243</td>\n",
       "      <td>3813</td>\n",
       "      <td>Private room</td>\n",
       "      <td>NaN</td>\n",
       "      <td>Oostelijk Havengebied / Indische Buurt</td>\n",
       "      <td>116</td>\n",
       "      <td>4.5</td>\n",
       "      <td>4</td>\n",
       "      <td>1.0</td>\n",
       "      <td>75.0</td>\n",
       "      <td>2</td>\n",
       "      <td>52.379212</td>\n",
       "      <td>4.926324</td>\n",
       "      <td>2014-05-24 17:16:02.491</td>\n",
       "    </tr>\n",
       "    <tr>\n",
       "      <th>2</th>\n",
       "      <td>15061</td>\n",
       "      <td>59297</td>\n",
       "      <td>Private room</td>\n",
       "      <td>NaN</td>\n",
       "      <td>Westerpark</td>\n",
       "      <td>53</td>\n",
       "      <td>5.0</td>\n",
       "      <td>4</td>\n",
       "      <td>1.0</td>\n",
       "      <td>66.0</td>\n",
       "      <td>2</td>\n",
       "      <td>52.382685</td>\n",
       "      <td>4.876130</td>\n",
       "      <td>2014-05-24 20:01:54.098</td>\n",
       "    </tr>\n",
       "    <tr>\n",
       "      <th>3</th>\n",
       "      <td>15865</td>\n",
       "      <td>59484</td>\n",
       "      <td>Private room</td>\n",
       "      <td>NaN</td>\n",
       "      <td>Centrum Oost</td>\n",
       "      <td>1</td>\n",
       "      <td>5.0</td>\n",
       "      <td>4</td>\n",
       "      <td>1.0</td>\n",
       "      <td>151.0</td>\n",
       "      <td>3</td>\n",
       "      <td>52.363786</td>\n",
       "      <td>4.893392</td>\n",
       "      <td>2014-05-24 21:52:07.540</td>\n",
       "    </tr>\n",
       "    <tr>\n",
       "      <th>4</th>\n",
       "      <td>20168</td>\n",
       "      <td>59484</td>\n",
       "      <td>Private room</td>\n",
       "      <td>NaN</td>\n",
       "      <td>Centrum Oost</td>\n",
       "      <td>4</td>\n",
       "      <td>4.0</td>\n",
       "      <td>2</td>\n",
       "      <td>1.0</td>\n",
       "      <td>90.0</td>\n",
       "      <td>3</td>\n",
       "      <td>52.365087</td>\n",
       "      <td>4.893541</td>\n",
       "      <td>2014-05-24 20:36:24.643</td>\n",
       "    </tr>\n",
       "    <tr>\n",
       "      <th>5</th>\n",
       "      <td>20522</td>\n",
       "      <td>77484</td>\n",
       "      <td>Entire home/apt</td>\n",
       "      <td>NaN</td>\n",
       "      <td>De Pijp / Rivierenbuurt</td>\n",
       "      <td>139</td>\n",
       "      <td>4.5</td>\n",
       "      <td>2</td>\n",
       "      <td>1.0</td>\n",
       "      <td>92.0</td>\n",
       "      <td>2</td>\n",
       "      <td>52.354818</td>\n",
       "      <td>4.888065</td>\n",
       "      <td>2014-05-24 15:46:47.530</td>\n",
       "    </tr>\n",
       "    <tr>\n",
       "      <th>6</th>\n",
       "      <td>22315</td>\n",
       "      <td>10378458</td>\n",
       "      <td>Entire home/apt</td>\n",
       "      <td>NaN</td>\n",
       "      <td>Oud Oost</td>\n",
       "      <td>6</td>\n",
       "      <td>4.0</td>\n",
       "      <td>6</td>\n",
       "      <td>2.0</td>\n",
       "      <td>153.0</td>\n",
       "      <td>3</td>\n",
       "      <td>52.357946</td>\n",
       "      <td>4.916384</td>\n",
       "      <td>2014-05-24 15:48:44.487</td>\n",
       "    </tr>\n",
       "    <tr>\n",
       "      <th>7</th>\n",
       "      <td>23651</td>\n",
       "      <td>9616</td>\n",
       "      <td>Private room</td>\n",
       "      <td>NaN</td>\n",
       "      <td>De Pijp / Rivierenbuurt</td>\n",
       "      <td>36</td>\n",
       "      <td>5.0</td>\n",
       "      <td>3</td>\n",
       "      <td>1.0</td>\n",
       "      <td>122.0</td>\n",
       "      <td>6</td>\n",
       "      <td>52.345911</td>\n",
       "      <td>4.891983</td>\n",
       "      <td>2014-05-24 17:16:35.801</td>\n",
       "    </tr>\n",
       "    <tr>\n",
       "      <th>8</th>\n",
       "      <td>25488</td>\n",
       "      <td>106225</td>\n",
       "      <td>Entire home/apt</td>\n",
       "      <td>NaN</td>\n",
       "      <td>Oostelijk Havengebied / Indische Buurt</td>\n",
       "      <td>46</td>\n",
       "      <td>4.5</td>\n",
       "      <td>6</td>\n",
       "      <td>3.0</td>\n",
       "      <td>229.0</td>\n",
       "      <td>3</td>\n",
       "      <td>52.365010</td>\n",
       "      <td>4.943572</td>\n",
       "      <td>2014-05-24 18:25:26.164</td>\n",
       "    </tr>\n",
       "    <tr>\n",
       "      <th>9</th>\n",
       "      <td>27573</td>\n",
       "      <td>119217</td>\n",
       "      <td>Private room</td>\n",
       "      <td>NaN</td>\n",
       "      <td>Centrum Oost</td>\n",
       "      <td>53</td>\n",
       "      <td>4.5</td>\n",
       "      <td>2</td>\n",
       "      <td>1.0</td>\n",
       "      <td>174.0</td>\n",
       "      <td>3</td>\n",
       "      <td>52.364293</td>\n",
       "      <td>4.897716</td>\n",
       "      <td>2014-05-24 22:09:41.484</td>\n",
       "    </tr>\n",
       "  </tbody>\n",
       "</table>\n",
       "</div>"
      ],
      "text/plain": [
       "   room_id   host_id        room_type  borough  \\\n",
       "0     2818      3159     Private room      NaN   \n",
       "1     6243      3813     Private room      NaN   \n",
       "2    15061     59297     Private room      NaN   \n",
       "3    15865     59484     Private room      NaN   \n",
       "4    20168     59484     Private room      NaN   \n",
       "5    20522     77484  Entire home/apt      NaN   \n",
       "6    22315  10378458  Entire home/apt      NaN   \n",
       "7    23651      9616     Private room      NaN   \n",
       "8    25488    106225  Entire home/apt      NaN   \n",
       "9    27573    119217     Private room      NaN   \n",
       "\n",
       "                             neighborhood  reviews  overall_satisfaction  \\\n",
       "0  Oostelijk Havengebied / Indische Buurt       77                   5.0   \n",
       "1  Oostelijk Havengebied / Indische Buurt      116                   4.5   \n",
       "2                              Westerpark       53                   5.0   \n",
       "3                            Centrum Oost        1                   5.0   \n",
       "4                            Centrum Oost        4                   4.0   \n",
       "5                 De Pijp / Rivierenbuurt      139                   4.5   \n",
       "6                                Oud Oost        6                   4.0   \n",
       "7                 De Pijp / Rivierenbuurt       36                   5.0   \n",
       "8  Oostelijk Havengebied / Indische Buurt       46                   4.5   \n",
       "9                            Centrum Oost       53                   4.5   \n",
       "\n",
       "   accommodates  bedrooms  price  minstay   latitude  longitude  \\\n",
       "0             2       1.0   90.0        3  52.365755   4.941419   \n",
       "1             4       1.0   75.0        2  52.379212   4.926324   \n",
       "2             4       1.0   66.0        2  52.382685   4.876130   \n",
       "3             4       1.0  151.0        3  52.363786   4.893392   \n",
       "4             2       1.0   90.0        3  52.365087   4.893541   \n",
       "5             2       1.0   92.0        2  52.354818   4.888065   \n",
       "6             6       2.0  153.0        3  52.357946   4.916384   \n",
       "7             3       1.0  122.0        6  52.345911   4.891983   \n",
       "8             6       3.0  229.0        3  52.365010   4.943572   \n",
       "9             2       1.0  174.0        3  52.364293   4.897716   \n",
       "\n",
       "             last_modified  \n",
       "0  2014-05-24 14:44:31.832  \n",
       "1  2014-05-24 17:16:02.491  \n",
       "2  2014-05-24 20:01:54.098  \n",
       "3  2014-05-24 21:52:07.540  \n",
       "4  2014-05-24 20:36:24.643  \n",
       "5  2014-05-24 15:46:47.530  \n",
       "6  2014-05-24 15:48:44.487  \n",
       "7  2014-05-24 17:16:35.801  \n",
       "8  2014-05-24 18:25:26.164  \n",
       "9  2014-05-24 22:09:41.484  "
      ]
     },
     "execution_count": 15,
     "metadata": {},
     "output_type": "execute_result"
    }
   ],
   "source": [
    "dataset.head(10)\n"
   ]
  },
  {
   "cell_type": "code",
   "execution_count": 16,
   "metadata": {},
   "outputs": [
    {
     "data": {
      "text/plain": [
       "room_id                   int64\n",
       "host_id                   int64\n",
       "room_type                object\n",
       "borough                 float64\n",
       "neighborhood             object\n",
       "reviews                   int64\n",
       "overall_satisfaction    float64\n",
       "accommodates              int64\n",
       "bedrooms                float64\n",
       "price                   float64\n",
       "minstay                   int64\n",
       "latitude                float64\n",
       "longitude               float64\n",
       "last_modified            object\n",
       "dtype: object"
      ]
     },
     "execution_count": 16,
     "metadata": {},
     "output_type": "execute_result"
    }
   ],
   "source": [
    "dataset.dtypes  #discovering data types"
   ]
  },
  {
   "cell_type": "code",
   "execution_count": 17,
   "metadata": {},
   "outputs": [
    {
     "data": {
      "text/plain": [
       "count    5645.000000\n",
       "mean      191.353942\n",
       "std       134.291993\n",
       "min        23.000000\n",
       "25%       122.000000\n",
       "50%       153.000000\n",
       "75%       228.000000\n",
       "max      4588.000000\n",
       "Name: price, dtype: float64"
      ]
     },
     "execution_count": 17,
     "metadata": {},
     "output_type": "execute_result"
    }
   ],
   "source": [
    "dataset['price'].describe() #Descriptive statistics on numerical variable price"
   ]
  },
  {
   "cell_type": "code",
   "execution_count": 3,
   "metadata": {},
   "outputs": [
    {
     "data": {
      "image/png": "[encoded data removed]",
      "text/plain": [
       "<matplotlib.figure.Figure at 0x10de6f7f0>"
      ]
     },
     "metadata": {},
     "output_type": "display_data"
    }
   ],
   "source": [
    "#using seaborn for visualization\n",
    "#Facetgrid of room type and prices ( of rooms priced till 500)\n",
    "g = sns.FacetGrid(dataset, col=\"room_type\",xlim=500) \n",
    "g.map(sns.distplot, \"price\")\n",
    "sns.plt.show()"
   ]
  },
  {
   "cell_type": "code",
   "execution_count": 4,
   "metadata": {},
   "outputs": [
    {
     "data": {
      "image/png": "[encoded data removed]",
      "text/plain": [
       "<matplotlib.figure.Figure at 0x10de6fcf8>"
      ]
     },
     "metadata": {},
     "output_type": "display_data"
    }
   ],
   "source": [
    "#pairplots useful to plot different plots together on various variables- this can include residual and regression plots\n",
    "g = sns.pairplot(dataset[[\"accommodates\", \"price\" ,\"neighborhood\"]], hue=\"neighborhood\", kind=\"hist\")\n",
    "\n",
    "for ax in g.axes.flat: \n",
    "    plt.setp(ax.get_xticklabels(), rotation=45)\n",
    "    \n",
    "sns.plt.show()\n"
   ]
  },
  {
   "cell_type": "code",
   "execution_count": null,
   "metadata": {
    "collapsed": true
   },
   "outputs": [],
   "source": []
  },
  {
   "cell_type": "code",
   "execution_count": null,
   "metadata": {
    "collapsed": true
   },
   "outputs": [],
   "source": []
  }
 ],
 "metadata": {
  "kernelspec": {
   "display_name": "Python 3",
   "language": "python",
   "name": "python3"
  },
  "language_info": {
   "codemirror_mode": {
    "name": "ipython",
    "version": 3
   },
   "file_extension": ".py",
   "mimetype": "text/x-python",
   "name": "python",
   "nbconvert_exporter": "python",
   "pygments_lexer": "ipython3",
   "version": "3.6.1"
  }
 },
 "nbformat": 4,
 "nbformat_minor": 2
}
